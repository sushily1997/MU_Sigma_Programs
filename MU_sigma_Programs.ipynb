{
  "nbformat": 4,
  "nbformat_minor": 0,
  "metadata": {
    "colab": {
      "provenance": [],
      "collapsed_sections": [
        "CS_K-IJtVQPS",
        "tfB1_7o-VanZ",
        "8YJR1lUyVhT6",
        "xC7DB-zav28r"
      ],
      "include_colab_link": true
    },
    "kernelspec": {
      "name": "python3",
      "display_name": "Python 3"
    },
    "language_info": {
      "name": "python"
    }
  },
  "cells": [
    {
      "cell_type": "markdown",
      "metadata": {
        "id": "view-in-github",
        "colab_type": "text"
      },
      "source": [
        "<a href=\"https://colab.research.google.com/github/sushily1997/MU_Sigma_Programs/blob/main/MU_sigma_Programs.ipynb\" target=\"_parent\"><img src=\"https://colab.research.google.com/assets/colab-badge.svg\" alt=\"Open In Colab\"/></a>"
      ]
    },
    {
      "cell_type": "code",
      "execution_count": null,
      "metadata": {
        "id": "dBditey3P-IS",
        "colab": {
          "base_uri": "https://localhost:8080/"
        },
        "outputId": "e48f2be4-6d30-4a23-c45e-35d29d38b705"
      },
      "outputs": [
        {
          "output_type": "stream",
          "name": "stdout",
          "text": [
            "[6, 16, 26, 36, 46, 56, 60, 61, 62, 63, 64, 65, 66, 67, 68, 69, 76, 86, 96, 106, 116, 126, 136, 146, 156, 160, 161, 162, 163, 164, 165, 166, 167, 168, 169, 176, 186, 196, 206, 216, 226, 236, 246, 256, 260, 261, 262, 263, 264, 265, 266, 267, 268, 269, 276, 286, 296, 306, 316, 326, 336, 346, 356, 360, 361, 362, 363, 364, 365, 366, 367, 368, 369, 376, 386, 396, 406, 416, 426, 436, 446, 456, 460, 461, 462, 463, 464, 465, 466, 467, 468, 469, 476, 486, 496, 506, 516, 526, 536, 546, 556, 560, 561, 562, 563, 564, 565, 566, 567, 568, 569, 576, 586, 596, 600, 601, 602, 603, 604, 605, 606, 607, 608, 609, 610, 611, 612, 613, 614, 615, 616, 617, 618, 619, 620, 621, 622, 623, 624, 625, 626, 627, 628, 629, 630, 631, 632, 633, 634, 635, 636, 637, 638, 639, 640, 641, 642, 643, 644, 645, 646, 647, 648, 649, 650, 651, 652, 653, 654, 655, 656, 657, 658, 659, 660, 661, 662, 663, 664, 665, 666, 667, 668, 669, 670, 671, 672, 673, 674, 675, 676, 677, 678, 679, 680, 681, 682, 683, 684, 685, 686, 687, 688, 689, 690, 691, 692, 693, 694, 695, 696, 697, 698, 699, 706, 716, 726, 736, 746, 756, 760, 761, 762, 763, 764, 765, 766, 767, 768, 769, 776, 786, 796, 806, 816, 826, 836, 846, 856, 860, 861, 862, 863, 864, 865, 866, 867, 868, 869, 876, 886, 896, 906, 916, 926, 936, 946, 956, 960, 961, 962, 963, 964, 965, 966, 967, 968, 969, 976, 986, 996]\n"
          ]
        }
      ],
      "source": [
        "six = [n for n in range(0,1000) if '6' in str(n)]\n",
        "print(six)"
      ]
    },
    {
      "cell_type": "code",
      "source": [
        "d = {'A':1,'B':2,'C':3}\n",
        "key = input('Enter any key : ')\n",
        "if key in d.keys():\n",
        "  print('Key is present and value of the key is')\n",
        "  print(d[key])\n",
        "else:\n",
        "  print('Key is not present')"
      ],
      "metadata": {
        "id": "sILW96ITkisa",
        "colab": {
          "base_uri": "https://localhost:8080/"
        },
        "outputId": "8ce9aa8d-632d-4b4b-9f57-f9a0bc9aa3b9"
      },
      "execution_count": null,
      "outputs": [
        {
          "output_type": "stream",
          "name": "stdout",
          "text": [
            "Enter any key : B\n",
            "Key is present and value of the key is\n",
            "2\n"
          ]
        }
      ]
    },
    {
      "cell_type": "code",
      "source": [],
      "metadata": {
        "id": "uSixxhf95Ow0"
      },
      "execution_count": null,
      "outputs": []
    },
    {
      "cell_type": "code",
      "source": [
        "def fibonacci(n):\n",
        "  if n < 0:\n",
        "    print('Incorrect input')\n",
        "  elif n == 0: \n",
        "    return 0\n",
        "  elif n == 1 or n == 2:\n",
        "    return 1\n",
        "  else:\n",
        "    return fibonacci(n-1) + fibonacci(n-2)\n",
        "\n",
        "print(fibonacci(9))"
      ],
      "metadata": {
        "colab": {
          "base_uri": "https://localhost:8080/"
        },
        "id": "DgSu2lTqJo1Z",
        "outputId": "f0c0d01d-7f4c-4a10-fa8e-34d63e0b5c09"
      },
      "execution_count": null,
      "outputs": [
        {
          "output_type": "stream",
          "name": "stdout",
          "text": [
            "34\n"
          ]
        }
      ]
    },
    {
      "cell_type": "code",
      "source": [
        "num = 11\n",
        "if num > 1:\n",
        "  for i in range(2, int(num/2) + 1 ):\n",
        "    if num % i == 0:\n",
        "      print(num, 'Number is not prime')\n",
        "      break\n",
        "  else:\n",
        "    print(num, 'Number is prime')\n",
        "else:\n",
        "  print(num,'Number is not prime')"
      ],
      "metadata": {
        "colab": {
          "base_uri": "https://localhost:8080/"
        },
        "id": "_52dL6EjLV-2",
        "outputId": "7eae9f52-0805-496c-bf64-4c4f7e307850"
      },
      "execution_count": 1,
      "outputs": [
        {
          "output_type": "stream",
          "name": "stdout",
          "text": [
            "11 Number is prime\n"
          ]
        }
      ]
    },
    {
      "cell_type": "code",
      "source": [
        "# Python3 program to create Special triangle.\n",
        "\n",
        "def triSum(A):\n",
        "\t\tif (len(A) < 1):\n",
        "\t\t\treturn\n",
        "\t\ttemp = [0] * (len(A) - 1)\n",
        "\t\tfor i in range( 0, len(A) - 1):\n",
        "\t\t\tx = A[i] + A[i + 1]\n",
        "\t\t\ttemp[i] = x\n",
        "\t\ttriSum(temp)\n",
        "\t\tprint(A)\n",
        "# Driver function\n",
        "A = [ 1, 2, 3, 4, 5 ]\n",
        "triSum(A)"
      ],
      "metadata": {
        "colab": {
          "base_uri": "https://localhost:8080/"
        },
        "id": "wRiM0uRWqGAn",
        "outputId": "d71bf81b-4e33-4ad3-c89a-d442cffcd16f"
      },
      "execution_count": null,
      "outputs": [
        {
          "output_type": "stream",
          "name": "stdout",
          "text": [
            "[48]\n",
            "[20, 28]\n",
            "[8, 12, 16]\n",
            "[3, 5, 7, 9]\n",
            "[1, 2, 3, 4, 5]\n"
          ]
        }
      ]
    },
    {
      "cell_type": "code",
      "source": [
        "# Fizz Buzz \n",
        "for i in range(1,101):\n",
        "  if i % 15 == 0:\n",
        "    print(\"FizzzBuzz\")\n",
        "    continue\n",
        "  elif i % 3 == 0:\n",
        "    print(\"Fizz\")\n",
        "    continue \n",
        "  elif i % 5 == 0:\n",
        "    print(\"Buzz\")\n",
        "    continue \n",
        "  print(i)"
      ],
      "metadata": {
        "id": "t-KCz6O2C1Kt",
        "colab": {
          "base_uri": "https://localhost:8080/"
        },
        "outputId": "c4b56c93-1707-4b7c-c6c5-d68b008cc755"
      },
      "execution_count": 2,
      "outputs": [
        {
          "output_type": "stream",
          "name": "stdout",
          "text": [
            "1\n",
            "2\n",
            "Fizz\n",
            "4\n",
            "Buzz\n",
            "Fizz\n",
            "7\n",
            "8\n",
            "Fizz\n",
            "Buzz\n",
            "11\n",
            "Fizz\n",
            "13\n",
            "14\n",
            "FizzzBuzz\n",
            "16\n",
            "17\n",
            "Fizz\n",
            "19\n",
            "Buzz\n",
            "Fizz\n",
            "22\n",
            "23\n",
            "Fizz\n",
            "Buzz\n",
            "26\n",
            "Fizz\n",
            "28\n",
            "29\n",
            "FizzzBuzz\n",
            "31\n",
            "32\n",
            "Fizz\n",
            "34\n",
            "Buzz\n",
            "Fizz\n",
            "37\n",
            "38\n",
            "Fizz\n",
            "Buzz\n",
            "41\n",
            "Fizz\n",
            "43\n",
            "44\n",
            "FizzzBuzz\n",
            "46\n",
            "47\n",
            "Fizz\n",
            "49\n",
            "Buzz\n",
            "Fizz\n",
            "52\n",
            "53\n",
            "Fizz\n",
            "Buzz\n",
            "56\n",
            "Fizz\n",
            "58\n",
            "59\n",
            "FizzzBuzz\n",
            "61\n",
            "62\n",
            "Fizz\n",
            "64\n",
            "Buzz\n",
            "Fizz\n",
            "67\n",
            "68\n",
            "Fizz\n",
            "Buzz\n",
            "71\n",
            "Fizz\n",
            "73\n",
            "74\n",
            "FizzzBuzz\n",
            "76\n",
            "77\n",
            "Fizz\n",
            "79\n",
            "Buzz\n",
            "Fizz\n",
            "82\n",
            "83\n",
            "Fizz\n",
            "Buzz\n",
            "86\n",
            "Fizz\n",
            "88\n",
            "89\n",
            "FizzzBuzz\n",
            "91\n",
            "92\n",
            "Fizz\n",
            "94\n",
            "Buzz\n",
            "Fizz\n",
            "97\n",
            "98\n",
            "Fizz\n",
            "Buzz\n"
          ]
        }
      ]
    },
    {
      "cell_type": "code",
      "source": [
        "# Fibbibaci serire \n",
        "def fibonacci(n):\n",
        "  if n < 0:\n",
        "    print(\"Incorrect input\")\n",
        "  elif n == 0:\n",
        "    return 0 \n",
        "  elif n ==1 or n ==2:\n",
        "    return 1\n",
        "  else:\n",
        "    return fibonacci(n-1) + fibonacci(n-2)\n",
        "\n",
        "print(fibonacci(9))"
      ],
      "metadata": {
        "colab": {
          "base_uri": "https://localhost:8080/"
        },
        "id": "xXAnbf-JPL70",
        "outputId": "56fd2883-f50a-420b-927f-5a4e6d4dfeb7"
      },
      "execution_count": null,
      "outputs": [
        {
          "output_type": "stream",
          "name": "stdout",
          "text": [
            "34\n"
          ]
        }
      ]
    },
    {
      "cell_type": "code",
      "source": [
        "# Fibbinacci with reduced time complelixicity \n",
        "def printFibo(n):\n",
        "    a = 0\n",
        "    b = 1\n",
        "    for i in range(n):\n",
        "        # print(a)\n",
        "        sum = a + b\n",
        "        a = b\n",
        "        b = sum\n",
        "\n",
        "    return a\n",
        "print(printFibo(9))"
      ],
      "metadata": {
        "colab": {
          "base_uri": "https://localhost:8080/"
        },
        "id": "QRgzajo08l_Y",
        "outputId": "e31c6610-18e1-41de-d10d-44ea53de691b"
      },
      "execution_count": null,
      "outputs": [
        {
          "output_type": "stream",
          "name": "stdout",
          "text": [
            "34\n"
          ]
        }
      ]
    },
    {
      "cell_type": "code",
      "source": [
        "# Prime no\n",
        "num = 11\n",
        "if num > 1:\n",
        "  for i in range(2, int(num/2)+1):\n",
        "    if num % i == 0:\n",
        "      print(\"Number is not prime number\", num)\n",
        "      break\n",
        "  else:\n",
        "      print(\"Number is prime number\", num)\n",
        "else:\n",
        "  print(\"Number is not prime number\", num)"
      ],
      "metadata": {
        "colab": {
          "base_uri": "https://localhost:8080/"
        },
        "id": "k504MUARQSUh",
        "outputId": "66d4496d-e3b6-400e-d655-ebcc3de86c88"
      },
      "execution_count": null,
      "outputs": [
        {
          "output_type": "stream",
          "name": "stdout",
          "text": [
            "Number is prime number 11\n"
          ]
        }
      ]
    },
    {
      "cell_type": "code",
      "source": [
        "# prime number range \n",
        "def prime(x,y):\n",
        "  prime_lst = []\n",
        "  for i in range(x,y):\n",
        "    if i == 0 or i == 1:\n",
        "      continue\n",
        "    else:\n",
        "      for j in range(2, int(i/2)+1):\n",
        "        if i % j ==0:\n",
        "          break\n",
        "      else:\n",
        "        prime_lst.append(i)\n",
        "  return prime_lst\n",
        "\n",
        "starting_range = 2\n",
        "ending_range = 7\n",
        "lst = prime(starting_range, ending_range)\n",
        "if len(lst) == 0:\n",
        "    print(\"There are no prime numbers in this range\")\n",
        "else:\n",
        "    print(\"The prime numbers in this range are: \", lst)"
      ],
      "metadata": {
        "colab": {
          "base_uri": "https://localhost:8080/"
        },
        "id": "gbtFj4V0Q9kQ",
        "outputId": "6df8a914-816e-43b4-ce29-3cb347f042c5"
      },
      "execution_count": null,
      "outputs": [
        {
          "output_type": "stream",
          "name": "stdout",
          "text": [
            "The prime numbers in this range are:  [2, 3, 5]\n"
          ]
        }
      ]
    },
    {
      "cell_type": "code",
      "source": [
        "# Prime with reduced time complexicity\n",
        "def isPrimeNumber(num):\n",
        "    i = 2\n",
        "    while i * i <= num:\n",
        "        if(num % i == 0):\n",
        "            return False\n",
        "        i += 1\n",
        "\n",
        "    return True\n",
        "\n",
        "print(isPrimeNumber(0))\n",
        "def printAllPrimeNumbers():\n",
        "    x = int(input())\n",
        "    y = int(input())\n",
        "\n",
        "    for num in range(x, y + 1):\n",
        "        if(isPrimeNumber(num)):\n",
        "            print(num)\n",
        "#printAllPrimeNumbers()"
      ],
      "metadata": {
        "colab": {
          "base_uri": "https://localhost:8080/"
        },
        "id": "xodCndO_8WUm",
        "outputId": "cefa83f2-a133-41fd-86a3-c749764c9e55"
      },
      "execution_count": null,
      "outputs": [
        {
          "output_type": "stream",
          "name": "stdout",
          "text": [
            "True\n"
          ]
        }
      ]
    },
    {
      "cell_type": "code",
      "source": [
        "# reverse a string\n",
        "txt = \"Hello World\"[::-1]\n",
        "print(txt)"
      ],
      "metadata": {
        "colab": {
          "base_uri": "https://localhost:8080/"
        },
        "id": "RVRShRPmSMcL",
        "outputId": "133fb8d2-3ce3-489e-b1c3-c5cfe75e0cf5"
      },
      "execution_count": null,
      "outputs": [
        {
          "output_type": "stream",
          "name": "stdout",
          "text": [
            "dlroW olleH\n"
          ]
        }
      ]
    },
    {
      "cell_type": "code",
      "source": [
        "# Reverse a number\n",
        "n = 4562\n",
        "rev = 0 \n",
        "while (n > 0):\n",
        "  a  = n % 10\n",
        "  rev = rev * 10+a\n",
        "  n = n // 10\n",
        "print(rev)\n"
      ],
      "metadata": {
        "colab": {
          "base_uri": "https://localhost:8080/"
        },
        "id": "kQpGHvxOVnj9",
        "outputId": "d51534e1-a9ad-4009-c7cc-29917fd121d1"
      },
      "execution_count": null,
      "outputs": [
        {
          "output_type": "stream",
          "name": "stdout",
          "text": [
            "2654\n"
          ]
        }
      ]
    },
    {
      "cell_type": "code",
      "source": [
        "# Factorial \n",
        "def factorial(n):\n",
        "  return 1 if (n==1 or n ==0) else n* factorial(n-1)\n",
        "\n",
        "print(factorial(5))"
      ],
      "metadata": {
        "colab": {
          "base_uri": "https://localhost:8080/"
        },
        "id": "MClJpzh1XMKz",
        "outputId": "1cf0546b-dd6b-47a0-f8a8-a9b822c70c10"
      },
      "execution_count": null,
      "outputs": [
        {
          "output_type": "stream",
          "name": "stdout",
          "text": [
            "120\n"
          ]
        }
      ]
    },
    {
      "cell_type": "code",
      "source": [
        "# Factorial \n",
        "def factorial_1(n):\n",
        "  if n < 0:\n",
        "    return 0\n",
        "  elif n == 0 or n == 1:\n",
        "    return 1\n",
        "  else:\n",
        "    fact = 1\n",
        "    while (n > 1):\n",
        "      fact *= n\n",
        "      n -= 1\n",
        "  return fact\n",
        "\n",
        "print(factorial_1(6))"
      ],
      "metadata": {
        "colab": {
          "base_uri": "https://localhost:8080/"
        },
        "id": "uHKAOlNSX7Om",
        "outputId": "2ff3b83b-9b5a-4a8e-eec9-1a790ba54d08"
      },
      "execution_count": null,
      "outputs": [
        {
          "output_type": "stream",
          "name": "stdout",
          "text": [
            "720\n"
          ]
        }
      ]
    },
    {
      "cell_type": "code",
      "source": [
        "# Tringular sum\n",
        "def tringularsum(a):\n",
        "  if (len(a) < 1):\n",
        "    return\n",
        "  temp = [0] * (len(a) - 1)\n",
        "  for i in range(0,len(a)-1):\n",
        "    x = a[i] + a[i+1]\n",
        "    temp[i] = x\n",
        "  tringularsum(temp)\n",
        "  print(a)\n",
        "\n",
        "a = [1,2,3,4,5]\n",
        "print(tringularsum(a))"
      ],
      "metadata": {
        "colab": {
          "base_uri": "https://localhost:8080/"
        },
        "id": "gt5ooe1UY2x_",
        "outputId": "00f52b9a-daa4-4a46-ffaf-6879d0bbafbf"
      },
      "execution_count": null,
      "outputs": [
        {
          "output_type": "stream",
          "name": "stdout",
          "text": [
            "[48]\n",
            "[20, 28]\n",
            "[8, 12, 16]\n",
            "[3, 5, 7, 9]\n",
            "[1, 2, 3, 4, 5]\n",
            "None\n"
          ]
        }
      ]
    },
    {
      "cell_type": "code",
      "source": [
        "# Largest string\n",
        "a = \"abc xyz pqr\"\n",
        "b = \"def\"\n",
        "count1 = 0\n",
        "count2 = 0\n",
        "for i in a:\n",
        "  count1 = count1 + 1\n",
        "for i in b:\n",
        "  count2 = count2 + 1\n",
        "if (count1 < count2):\n",
        "  print(\"Larger string is\")\n",
        "  print(b)\n",
        "elif (count1 == count2):\n",
        "  print(\"Both strings are same\")\n",
        "else:\n",
        "  print(\"Larger string is\")\n",
        "  print(a)"
      ],
      "metadata": {
        "colab": {
          "base_uri": "https://localhost:8080/"
        },
        "id": "XtwdYHz5aJje",
        "outputId": "2eee43cc-4e9d-45d1-abb6-ac16519f54d7"
      },
      "execution_count": null,
      "outputs": [
        {
          "output_type": "stream",
          "name": "stdout",
          "text": [
            "Larger string is\n",
            "abc xyz pqr\n"
          ]
        }
      ]
    },
    {
      "cell_type": "code",
      "source": [
        "# Fizz Buzz\n",
        "for i in range(1,100):\n",
        "  if i % 15 == 0:\n",
        "    print(\"FizzzBuzz\")\n",
        "    continue\n",
        "  elif i % 3 == 0:\n",
        "    print(\"Fizz\")\n",
        "    continue \n",
        "  elif i % 5 == 0:\n",
        "    print(\"Buzz\")\n",
        "    continue \n",
        "  print(i)"
      ],
      "metadata": {
        "id": "dZthN7RV39S-"
      },
      "execution_count": null,
      "outputs": []
    },
    {
      "cell_type": "code",
      "source": [
        "# 2nd largest in list\n",
        "a = [1,13,55,7,9,11,23]\n",
        "a.sort()\n",
        "print(a)\n",
        "print(a[-2])"
      ],
      "metadata": {
        "colab": {
          "base_uri": "https://localhost:8080/"
        },
        "id": "KGjs3Fzybjwf",
        "outputId": "d76ddb36-52a0-4366-d460-54fac6837ab1"
      },
      "execution_count": null,
      "outputs": [
        {
          "output_type": "stream",
          "name": "stdout",
          "text": [
            "[1, 7, 9, 11, 13, 23, 55]\n",
            "23\n"
          ]
        }
      ]
    },
    {
      "cell_type": "code",
      "source": [
        "# Amstrong Number.\n",
        "def power(x,y):\n",
        "  if y == 0:\n",
        "    return 1\n",
        "  if y % 2 == 0:\n",
        "    return power(x, y // 2) * power(x,y // 2)\n",
        "  return x*power(x,y // 2) * power(x,y // 2)\n",
        "def order(x):\n",
        "  n = 0\n",
        "  while(x != 0):\n",
        "    n = n+1\n",
        "    x = x // 10\n",
        "  return n\n",
        "def isamstrong(x):\n",
        "  n = order(x)\n",
        "  temp = x\n",
        "  sum1 = 0\n",
        "  while(temp != 0):\n",
        "    r = temp % 10\n",
        "    sum1 = sum1 + power(r,n)\n",
        "    temp = temp // 10\n",
        "  return (sum1 == x)\n",
        "\n",
        "x = 153 \n",
        "print(isamstrong(x))\n",
        "x = 225\n",
        "print(isamstrong(x))\n",
        "# reference: https://www.geeksforgeeks.org/python-program-to-check-armstrong-number/"
      ],
      "metadata": {
        "colab": {
          "base_uri": "https://localhost:8080/"
        },
        "id": "Ev0MKeynb3mQ",
        "outputId": "596caa3f-bcb0-4605-af88-97df91928143"
      },
      "execution_count": null,
      "outputs": [
        {
          "output_type": "stream",
          "name": "stdout",
          "text": [
            "True\n",
            "False\n"
          ]
        }
      ]
    },
    {
      "cell_type": "code",
      "source": [
        "# Amstrong Number.\n",
        "n = 153\n",
        "s = n\n",
        "b = len(str(n))\n",
        "sum1 = 0\n",
        "while n != 0:\n",
        "  r = n % 10\n",
        "  sum1 = sum1 + (r**b)\n",
        "  n = n // 10\n",
        "if s == sum1:\n",
        "  print(\"The given number\" ,s, \"is amstrong number\")\n",
        "else:\n",
        "  print(\"The given number\" ,s, \"is not amstrong number\")"
      ],
      "metadata": {
        "colab": {
          "base_uri": "https://localhost:8080/"
        },
        "id": "gI7p8vXJdzwI",
        "outputId": "84c77574-67eb-4abf-ff04-b8ca1fa2ad5a"
      },
      "execution_count": null,
      "outputs": [
        {
          "output_type": "stream",
          "name": "stdout",
          "text": [
            "The given number 153 is amstrong number\n"
          ]
        }
      ]
    },
    {
      "cell_type": "code",
      "source": [
        "# Pallindrome number\n",
        "n = input(\"Enter a number\")\n",
        "if n == n[::-1]:\n",
        "  print(\"Number is pallindrome\")\n",
        "else:\n",
        "  print(\"Number is not pallindrome\")"
      ],
      "metadata": {
        "colab": {
          "base_uri": "https://localhost:8080/"
        },
        "id": "IRquunlfhGK4",
        "outputId": "a4709827-7532-403f-dc28-d883f9c7211b"
      },
      "execution_count": null,
      "outputs": [
        {
          "output_type": "stream",
          "name": "stdout",
          "text": [
            "Enter a number123321\n",
            "Number is pallindrome\n"
          ]
        }
      ]
    },
    {
      "cell_type": "code",
      "source": [
        "# Number swapping\n",
        "x = 5\n",
        "y = 7\n",
        "print(\"Before seapping\", x , y)\n",
        "x,y = y,x\n",
        "print(\"After seapping\", x , y)"
      ],
      "metadata": {
        "colab": {
          "base_uri": "https://localhost:8080/"
        },
        "id": "7j0ptwgChdHu",
        "outputId": "09b09fa6-6fe9-4b08-8947-62c0fada9e28"
      },
      "execution_count": null,
      "outputs": [
        {
          "output_type": "stream",
          "name": "stdout",
          "text": [
            "Before seapping 5 7\n",
            "After seapping 7 5\n"
          ]
        }
      ]
    },
    {
      "cell_type": "code",
      "source": [
        "# Lcm of two numbers \n",
        "def gcd(a,b):\n",
        "  if a == 0:\n",
        "    return b\n",
        "  return gcd(b % a, a)\n",
        "\n",
        "def lcm(a,b):\n",
        "  return (a / gcd(a,b)) *b\n",
        "\n",
        "a = 15\n",
        "b = 20\n",
        "print(\"Lcm of\", a, b, \"is\", lcm(a,b))"
      ],
      "metadata": {
        "colab": {
          "base_uri": "https://localhost:8080/"
        },
        "id": "tQCukeHPiP2w",
        "outputId": "09d2f79d-71a3-4e0b-a402-85fdc9119c54"
      },
      "execution_count": null,
      "outputs": [
        {
          "output_type": "stream",
          "name": "stdout",
          "text": [
            "Lcm of 15 20 is 60.0\n"
          ]
        }
      ]
    },
    {
      "cell_type": "markdown",
      "source": [
        "### CloudPhysician (Round 2)"
      ],
      "metadata": {
        "id": "CS_K-IJtVQPS"
      }
    },
    {
      "cell_type": "code",
      "source": [
        "words = [\n",
        "    'pto',\n",
        "    'ret',\n",
        "    'sup',\n",
        "    'und',\n",
        "    'xen',\n",
        "    'asy',  # <-- rotates here!\n",
        "    'bab',\n",
        "    'ban',\n",
        "    'eng',\n",
        "    'kar',\n",
        "    'oth',\n",
        "]\n",
        "\n",
        "# Write a function for finding the index of the \"rotation point,\"\n",
        "# which is where I started working from the beginning of the\n",
        "# dictionary. This list is huge (there are lots of words I don't know) so\n",
        "# we want to be efficient here.\n",
        "\n",
        "######################################################################\n",
        "\n",
        "# Now my turn\n",
        "\n",
        "\n",
        "def find_rotation_point(words):\n",
        "    \"\"\"return the index of the rotation point of a sorted word list\"\"\"\n",
        "\n",
        "    # basically a modified binary search\n",
        "    index = 0\n",
        "    n = len(words)\n",
        "    if n > 1:\n",
        "        left = 0\n",
        "        right = n - 1\n",
        "\n",
        "        while (right - left) > 1:\n",
        "            if words[left] > words[right]:\n",
        "                # the pivot is somewhere within this interval\n",
        "                # but where?\n",
        "                # split the interval in half\n",
        "                # check each half for the pivot\n",
        "                # use the half that contains the pivot\n",
        "                nexttry = int((left + right) / 2.0 + 0.5)\n",
        "                if words[nexttry] > words[right]:\n",
        "                    left = nexttry\n",
        "                else:\n",
        "                    right = nexttry\n",
        "            else:\n",
        "                # Boy: Do not try and find the pivot. That's\n",
        "                #      impossible. Instead only try to realize the truth.\n",
        "                # Neo: What truth?\n",
        "                # Boy: There is no pivot.\n",
        "                return left\n",
        "\n",
        "        if words[left] <= words[right]:\n",
        "            index = left\n",
        "        else:\n",
        "            index = right\n",
        "\n",
        "    return index\n",
        "\n",
        "find_rotation_point(words)"
      ],
      "metadata": {
        "id": "LI02kLEy5R1b",
        "colab": {
          "base_uri": "https://localhost:8080/"
        },
        "outputId": "40f15c7d-adb9-4e91-f5b1-4acb1b5313ef"
      },
      "execution_count": null,
      "outputs": [
        {
          "output_type": "execute_result",
          "data": {
            "text/plain": [
              "5"
            ]
          },
          "metadata": {},
          "execution_count": 4
        }
      ]
    },
    {
      "cell_type": "code",
      "source": [
        "# Rotation of array\n",
        "def countrotations(arr,n):\n",
        "  min = arr[0]\n",
        "  min_index = 0\n",
        "  for i in range(0,n):\n",
        "    if (min > arr[i]):\n",
        "      min = arr[i]\n",
        "      min_index = i\n",
        "  return min_index;\n",
        "\n",
        "arr = [15, 18, 2, 3, 6, 12]\n",
        "n = len(arr)\n",
        "print(countrotations(arr, n))"
      ],
      "metadata": {
        "colab": {
          "base_uri": "https://localhost:8080/"
        },
        "id": "0PyoEGZ7kW4Z",
        "outputId": "c27bb796-ddf5-4a52-edb3-62f86b0000fd"
      },
      "execution_count": null,
      "outputs": [
        {
          "output_type": "stream",
          "name": "stdout",
          "text": [
            "2\n"
          ]
        }
      ]
    },
    {
      "cell_type": "code",
      "source": [
        "# Rotation of array \n",
        "def countRotations(arr, n):\n",
        "    start = 0\n",
        "    end = n-1\n",
        "    while start<=end:\n",
        "        mid = start+(end-start)//2\n",
        "        prev = (mid-1+n)%n\n",
        "        nex = (mid+1)%n\n",
        "        if arr[mid]<arr[prev]\\\n",
        "           and arr[mid]<=arr[nex]:\n",
        "          return mid\n",
        "        elif arr[mid]<arr[start]: end = mid-1\n",
        "        elif arr[mid]>arr[end]: start = mid+1\n",
        "        else: return 0\n",
        " \n",
        "# Driver code\n",
        "# if __name__ == '__main__':\n",
        "arr = [15, 18, 2, 3, 6, 12]\n",
        "N = len(arr)\n",
        "print(countRotations(arr, N))"
      ],
      "metadata": {
        "colab": {
          "base_uri": "https://localhost:8080/"
        },
        "id": "N3ktMDTEkYGx",
        "outputId": "679258db-b250-4775-99f3-c970e567bc76"
      },
      "execution_count": null,
      "outputs": [
        {
          "output_type": "stream",
          "name": "stdout",
          "text": [
            "2\n"
          ]
        }
      ]
    },
    {
      "cell_type": "code",
      "source": [
        "#  Python 3 program for \n",
        "#  Spiral form of matrix\n",
        "class SpiralView :\n",
        "\tdef spiral(self, data, startRow, \n",
        "               startCol, endRow, endCol, element) :\n",
        "\t\ti = startCol\n",
        "\t\t#  Left to right\n",
        "\t\twhile (i <= endCol and element > 0) :\n",
        "\t\t\telement -= 1\n",
        "\t\t\tprint(\"\", data[startRow][i], end = \" \")\n",
        "\t\t\ti += 1\n",
        "\t\t\n",
        "\t\ti = startRow + 1\n",
        "\t\t#  Top to down\n",
        "\t\twhile (i <= endRow and element > 0) :\n",
        "\t\t\telement -= 1\n",
        "\t\t\tprint(\"\", data[i][endCol], end = \" \")\n",
        "\t\t\ti += 1\n",
        "\t\t\n",
        "\t\ti = endCol - 1\n",
        "\t\t#  Bottom right to bottom-left\n",
        "\t\twhile (i >= startCol and element > 0) :\n",
        "\t\t\telement -= 1\n",
        "\t\t\tprint(\"\", data[endRow][i], end = \" \")\n",
        "\t\t\ti -= 1\n",
        "\t\t\n",
        "\t\ti = endRow - 1\n",
        "\t\t#  Bottom left to top\n",
        "\t\twhile (i > startRow and element > 0) :\n",
        "\t\t\telement -= 1\n",
        "\t\t\tprint(\"\", data[i][startRow], end = \" \")\n",
        "\t\t\ti -= 1\n",
        "\t\t\n",
        "\t\tif (startRow + 1 <= endRow - 1 and element > 0) :\n",
        "\t\t\t#  Recursive call\n",
        "\t\t\tself.spiral(data, startRow + 1, startCol + 1, \n",
        "                        endRow - 1, endCol - 1, element)\n",
        "\t\t\n",
        "\t\n",
        "\n",
        "def main() :\n",
        "\ttask = SpiralView()\n",
        "\t#  Given matrix\n",
        "\tmatrix = [\n",
        "\t\t[1, 2, 3, 4, 5, 6],\n",
        "\t\t[22, 23, 24, 25, 26, 7],\n",
        "\t\t[21, 36, 37, 38, 27, 8],\n",
        "\t\t[20, 35, 42, 39, 28, 9],\n",
        "\t\t[19, 34, 41, 40, 29, 10],\n",
        "\t\t[18, 33, 32, 31, 30, 11],\n",
        "\t\t[17, 16, 15, 14, 13, 12]\n",
        "\t]\n",
        "\trow = len(matrix)\n",
        "\tcol = len(matrix[0])\n",
        "\t#  Get the number of element\n",
        "\telement = row * col\n",
        "\ttask.spiral(matrix, 0, 0, row - 1, col - 1, element)\n",
        "\n",
        "if __name__ == \"__main__\": main()"
      ],
      "metadata": {
        "colab": {
          "base_uri": "https://localhost:8080/"
        },
        "id": "08_jVqHOlkIF",
        "outputId": "bdc7a4b9-5e89-490c-824c-4d48604763ee"
      },
      "execution_count": null,
      "outputs": [
        {
          "output_type": "stream",
          "name": "stdout",
          "text": [
            " 1  2  3  4  5  6  7  8  9  10  11  12  13  14  15  16  17  18  19  20  21  22  23  24  25  26  27  28  29  30  31  32  33  34  35  36  37  38  39  40  41  42 "
          ]
        }
      ]
    },
    {
      "cell_type": "code",
      "source": [
        "#****************************\n",
        "#  alphabetacoder.com\n",
        "#Python program for a spiral \n",
        "#pattern using numbers\n",
        "#****************************\n",
        "\n",
        "# take input \n",
        "s = int(input(\"Enter the size of the pattern: \"))\n",
        "\n",
        "# declare 2D array\n",
        "pattern = [[0 for i in range(s)] for j in range(s)]\n",
        "\n",
        "# initialize\n",
        "num = 1 # starting number\n",
        "i = 0 # 2d array row index\n",
        "j = 0 # 2d array column index\n",
        "m = 0 # to store row index lower limit\n",
        "n = s - 1 # to store row index upper limit\n",
        "p = 0 # to store column index lower limit\n",
        "q = s - 1 # to store column index upper limit\n",
        "\n",
        "\n",
        "# fill the array to create patern.\n",
        "# stop when n > s * s\n",
        "while num <= s * s:\n",
        "    # fill horizontally left to right\n",
        "    for j in range(p, q + 1):\n",
        "        pattern[m][j] = num\n",
        "        num = num + 1\n",
        "\n",
        "    # update row index lower limit\n",
        "    m = m + 1\n",
        "\n",
        "    # fill vertically top to bottom\n",
        "    for i in range(m, n + 1):\n",
        "        pattern[i][q] = num\n",
        "        num = num + 1\n",
        "\n",
        "    # update column index upper limit\n",
        "    q = q - 1\n",
        "\n",
        "    # fill horizontally right to left\n",
        "    for j in range(q, p - 1, -1):\n",
        "        pattern[n][j] = num\n",
        "        num = num + 1\n",
        "\n",
        "    # update row index upper limit\n",
        "    n = n - 1\n",
        "\n",
        "    # fill vertically bottom to top\n",
        "    for i in range(n, m - 1, -1):\n",
        "        pattern[i][p] = num\n",
        "        num = num + 1\n",
        "\n",
        "    # update column index lower limit\n",
        "    p = p + 1\n",
        "\n",
        "# new line\n",
        "print(\"\");\n",
        "\n",
        "# display the pattern\n",
        "for i in range(0, s):\n",
        "    for j in range(0, s):\n",
        "        # print value\n",
        "        print(pattern[i][j], end = \"\\t\")\n",
        "        \n",
        "    # new line\n",
        "    print(\"\")"
      ],
      "metadata": {
        "colab": {
          "base_uri": "https://localhost:8080/"
        },
        "id": "FK287RO8pTTi",
        "outputId": "cade423a-0045-4325-9d5d-2e53b64d8ff5"
      },
      "execution_count": null,
      "outputs": [
        {
          "output_type": "stream",
          "name": "stdout",
          "text": [
            "Enter the size of the pattern: 5\n",
            "\n",
            "1\t2\t3\t4\t5\t\n",
            "16\t17\t18\t19\t6\t\n",
            "15\t24\t25\t20\t7\t\n",
            "14\t23\t22\t21\t8\t\n",
            "13\t12\t11\t10\t9\t\n"
          ]
        }
      ]
    },
    {
      "cell_type": "code",
      "source": [
        "# Python 3 program to print\n",
        "# matrix in snake order\n",
        "M = 4\n",
        "N = 4\n",
        "\n",
        "def printf(mat):\n",
        "\tglobal M, N\n",
        "\t\n",
        "\t# Traverse through all rows\n",
        "\tfor i in range(M):\n",
        "\t\t\n",
        "\t\t# If current row is\n",
        "\t\t# even, print from\n",
        "\t\t# left to right\n",
        "\t\tif i % 2 == 0:\n",
        "\t\t\tfor j in range(N):\n",
        "\t\t\t\tprint(str(mat[i][j]),\n",
        "\t\t\t\t\t\tend = \" \")\n",
        "\n",
        "\t\t# If current row is\n",
        "\t\t# odd, print from\n",
        "\t\t# right to left\n",
        "\t\telse:\n",
        "\t\t\tfor j in range(N - 1, -1, -1):\n",
        "\t\t\t\tprint(str(mat[i][j]),\n",
        "\t\t\t\t\t\tend = \" \")\n",
        "\n",
        "# Driver code\n",
        "mat = [[ 10, 20, 30, 40 ],\n",
        "\t[ 15, 25, 35, 45 ],\n",
        "\t[ 27, 29, 37, 48 ],\n",
        "\t[ 32, 33, 39, 50 ]]\n",
        "\n",
        "printf(mat)\n",
        "\n",
        "# This code is contributed\n",
        "# by ChitraNayal\n"
      ],
      "metadata": {
        "colab": {
          "base_uri": "https://localhost:8080/"
        },
        "id": "a2t4QuUypl-Q",
        "outputId": "97bb511d-75b0-403f-e7aa-e5a807837ebc"
      },
      "execution_count": null,
      "outputs": [
        {
          "output_type": "stream",
          "name": "stdout",
          "text": [
            "10 20 30 40 45 35 25 15 27 29 37 48 50 39 33 32 "
          ]
        }
      ]
    },
    {
      "cell_type": "markdown",
      "source": [
        "### CloudThat (Round 1)"
      ],
      "metadata": {
        "id": "tfB1_7o-VanZ"
      }
    },
    {
      "cell_type": "code",
      "source": [
        "def isVowel(c):\n",
        "  vow = \"AaEeIiOoUu\"\n",
        "  if c not in vow:\n",
        "    return True \n",
        "  return False\n",
        "# Function to reverse order of vowels\n",
        "def reverserStr(string):\n",
        "\tj = 0\n",
        "\tvowel = [0] * len(string)\n",
        "\tstring = list(string)\n",
        "\t# Storing the vowels separately\n",
        "\tfor i in range(len(string)):\n",
        "\t\tif isVowel(string[i]):\n",
        "\t\t\tvowel[j] = string[i]\n",
        "\t\t\tj += 1\n",
        "\t# Placing the vowels in the reverse\n",
        "\t# order in the string\n",
        "\tfor i in range(len(string)):\n",
        "\t\tif isVowel(string[i]):\n",
        "\t\t\tj -= 1\n",
        "\t\t\tstring[i] = vowel[j]\n",
        "\treturn ''.join(string)\n",
        "string = \"hello world\"\n",
        "print(reverserStr(string))"
      ],
      "metadata": {
        "colab": {
          "base_uri": "https://localhost:8080/"
        },
        "id": "q-HTqxTZDK6P",
        "outputId": "12334086-6952-4bb5-b4b3-f1de3383f524"
      },
      "execution_count": null,
      "outputs": [
        {
          "output_type": "stream",
          "name": "stdout",
          "text": [
            "delrow ollh\n"
          ]
        }
      ]
    },
    {
      "cell_type": "code",
      "source": [
        "# Remove vowels and reverse string\n",
        "s = \"Balaji\"\n",
        "vow = \"AaEeIiOoUu\"\n",
        "s1 = \"\"\n",
        "for i in s:\n",
        "  if i not in vow:\n",
        "    s1 = i+s1\n",
        "print(s1)"
      ],
      "metadata": {
        "colab": {
          "base_uri": "https://localhost:8080/"
        },
        "id": "C7ENxMMDDP4z",
        "outputId": "d4fb4a28-bdf8-443d-a7c7-e5ae57df274b"
      },
      "execution_count": null,
      "outputs": [
        {
          "output_type": "stream",
          "name": "stdout",
          "text": [
            "jlB\n"
          ]
        }
      ]
    },
    {
      "cell_type": "code",
      "source": [
        "def uniquelist(ls):\n",
        "  l = []\n",
        "  [l.append(i) for i in ls if i not in l]\n",
        "  return l\n",
        "\n",
        "lst = [1,2,4,5,3,5,6,2,5,7,8,9]\n",
        "uniquelist(lst)"
      ],
      "metadata": {
        "colab": {
          "base_uri": "https://localhost:8080/"
        },
        "id": "ubp3BnVGFBmx",
        "outputId": "351d6c69-cb70-442a-8bfb-b2aeac8dacdd"
      },
      "execution_count": null,
      "outputs": [
        {
          "output_type": "execute_result",
          "data": {
            "text/plain": [
              "[1, 2, 4, 5, 3, 6, 7, 8, 9]"
            ]
          },
          "metadata": {},
          "execution_count": 8
        }
      ]
    },
    {
      "cell_type": "markdown",
      "source": [
        "### Dictionary use case "
      ],
      "metadata": {
        "id": "8YJR1lUyVhT6"
      }
    },
    {
      "cell_type": "code",
      "source": [
        "statesAndCapitals = {\n",
        "    'Gujarat': 'Gandhinagar',\n",
        "    'Maharashtra': 'Mumbai',\n",
        "    'Rajasthan': 'Jaipur',\n",
        "    'Bihar': 'Patna'\n",
        "}\n",
        " \n",
        "print('List Of given states:\\n')\n",
        " \n",
        "# Iterating over keys\n",
        "for state in statesAndCapitals:\n",
        "    print(state)"
      ],
      "metadata": {
        "id": "WLSvAOSyuhym",
        "colab": {
          "base_uri": "https://localhost:8080/"
        },
        "outputId": "94f997fc-259a-402e-c775-ea13b4cea058"
      },
      "execution_count": null,
      "outputs": [
        {
          "output_type": "stream",
          "name": "stdout",
          "text": [
            "List Of given states:\n",
            "\n",
            "Gujarat\n",
            "Maharashtra\n",
            "Rajasthan\n",
            "Bihar\n"
          ]
        }
      ]
    },
    {
      "cell_type": "code",
      "source": [
        "# importing pandas module\n",
        "import pandas as pd \n",
        " \n",
        "# Define a dictionary containing employee data \n",
        "data1 = {'Name':['Jai', 'Princi', 'Gaurav', 'Anuj'], \n",
        "        'Age':[27, 24, 22, 32], \n",
        "        'Address':['Nagpur', 'Kanpur', 'Allahabad', 'Kannuaj'], \n",
        "        'Qualification':['Msc', 'MA', 'MCA', 'Phd']} \n",
        "   \n",
        "# Define a dictionary containing employee data \n",
        "data2 = {'Name':['Abhi', 'Ayushi', 'Dhiraj', 'Hitesh'], \n",
        "        'Age':[17, 14, 12, 52], \n",
        "        'Address':['Nagpur', 'Kanpur', 'Allahabad', 'Kannuaj'], \n",
        "        'Qualification':['Btech', 'B.A', 'Bcom', 'B.hons']} \n",
        " \n",
        "# Convert the dictionary into DataFrame  \n",
        "df = pd.DataFrame(data1,index=[0, 1, 2, 3])\n",
        " \n",
        "# Convert the dictionary into DataFrame  \n",
        "df1 = pd.DataFrame(data2, index=[4, 5, 6, 7])\n",
        " \n",
        "print(df, \"\\n\\n\", df1) \n",
        "# using a .concat() method\n",
        "frames = [df, df1]\n",
        " \n",
        "res1 = pd.concat(frames)\n",
        "res1"
      ],
      "metadata": {
        "id": "4upSqljaYxSy",
        "outputId": "1a4c0d76-a911-4162-de2c-e9797f691b5d",
        "colab": {
          "base_uri": "https://localhost:8080/",
          "height": 491
        }
      },
      "execution_count": null,
      "outputs": [
        {
          "output_type": "stream",
          "name": "stdout",
          "text": [
            "     Name  Age    Address Qualification\n",
            "0     Jai   27     Nagpur           Msc\n",
            "1  Princi   24     Kanpur            MA\n",
            "2  Gaurav   22  Allahabad           MCA\n",
            "3    Anuj   32    Kannuaj           Phd \n",
            "\n",
            "      Name  Age    Address Qualification\n",
            "4    Abhi   17     Nagpur         Btech\n",
            "5  Ayushi   14     Kanpur           B.A\n",
            "6  Dhiraj   12  Allahabad          Bcom\n",
            "7  Hitesh   52    Kannuaj        B.hons\n"
          ]
        },
        {
          "output_type": "execute_result",
          "data": {
            "text/plain": [
              "     Name  Age    Address Qualification\n",
              "0     Jai   27     Nagpur           Msc\n",
              "1  Princi   24     Kanpur            MA\n",
              "2  Gaurav   22  Allahabad           MCA\n",
              "3    Anuj   32    Kannuaj           Phd\n",
              "4    Abhi   17     Nagpur         Btech\n",
              "5  Ayushi   14     Kanpur           B.A\n",
              "6  Dhiraj   12  Allahabad          Bcom\n",
              "7  Hitesh   52    Kannuaj        B.hons"
            ],
            "text/html": [
              "\n",
              "  <div id=\"df-dfa345a7-ab39-4c87-8e07-748d6166bfbe\">\n",
              "    <div class=\"colab-df-container\">\n",
              "      <div>\n",
              "<style scoped>\n",
              "    .dataframe tbody tr th:only-of-type {\n",
              "        vertical-align: middle;\n",
              "    }\n",
              "\n",
              "    .dataframe tbody tr th {\n",
              "        vertical-align: top;\n",
              "    }\n",
              "\n",
              "    .dataframe thead th {\n",
              "        text-align: right;\n",
              "    }\n",
              "</style>\n",
              "<table border=\"1\" class=\"dataframe\">\n",
              "  <thead>\n",
              "    <tr style=\"text-align: right;\">\n",
              "      <th></th>\n",
              "      <th>Name</th>\n",
              "      <th>Age</th>\n",
              "      <th>Address</th>\n",
              "      <th>Qualification</th>\n",
              "    </tr>\n",
              "  </thead>\n",
              "  <tbody>\n",
              "    <tr>\n",
              "      <th>0</th>\n",
              "      <td>Jai</td>\n",
              "      <td>27</td>\n",
              "      <td>Nagpur</td>\n",
              "      <td>Msc</td>\n",
              "    </tr>\n",
              "    <tr>\n",
              "      <th>1</th>\n",
              "      <td>Princi</td>\n",
              "      <td>24</td>\n",
              "      <td>Kanpur</td>\n",
              "      <td>MA</td>\n",
              "    </tr>\n",
              "    <tr>\n",
              "      <th>2</th>\n",
              "      <td>Gaurav</td>\n",
              "      <td>22</td>\n",
              "      <td>Allahabad</td>\n",
              "      <td>MCA</td>\n",
              "    </tr>\n",
              "    <tr>\n",
              "      <th>3</th>\n",
              "      <td>Anuj</td>\n",
              "      <td>32</td>\n",
              "      <td>Kannuaj</td>\n",
              "      <td>Phd</td>\n",
              "    </tr>\n",
              "    <tr>\n",
              "      <th>4</th>\n",
              "      <td>Abhi</td>\n",
              "      <td>17</td>\n",
              "      <td>Nagpur</td>\n",
              "      <td>Btech</td>\n",
              "    </tr>\n",
              "    <tr>\n",
              "      <th>5</th>\n",
              "      <td>Ayushi</td>\n",
              "      <td>14</td>\n",
              "      <td>Kanpur</td>\n",
              "      <td>B.A</td>\n",
              "    </tr>\n",
              "    <tr>\n",
              "      <th>6</th>\n",
              "      <td>Dhiraj</td>\n",
              "      <td>12</td>\n",
              "      <td>Allahabad</td>\n",
              "      <td>Bcom</td>\n",
              "    </tr>\n",
              "    <tr>\n",
              "      <th>7</th>\n",
              "      <td>Hitesh</td>\n",
              "      <td>52</td>\n",
              "      <td>Kannuaj</td>\n",
              "      <td>B.hons</td>\n",
              "    </tr>\n",
              "  </tbody>\n",
              "</table>\n",
              "</div>\n",
              "      <button class=\"colab-df-convert\" onclick=\"convertToInteractive('df-dfa345a7-ab39-4c87-8e07-748d6166bfbe')\"\n",
              "              title=\"Convert this dataframe to an interactive table.\"\n",
              "              style=\"display:none;\">\n",
              "        \n",
              "  <svg xmlns=\"http://www.w3.org/2000/svg\" height=\"24px\"viewBox=\"0 0 24 24\"\n",
              "       width=\"24px\">\n",
              "    <path d=\"M0 0h24v24H0V0z\" fill=\"none\"/>\n",
              "    <path d=\"M18.56 5.44l.94 2.06.94-2.06 2.06-.94-2.06-.94-.94-2.06-.94 2.06-2.06.94zm-11 1L8.5 8.5l.94-2.06 2.06-.94-2.06-.94L8.5 2.5l-.94 2.06-2.06.94zm10 10l.94 2.06.94-2.06 2.06-.94-2.06-.94-.94-2.06-.94 2.06-2.06.94z\"/><path d=\"M17.41 7.96l-1.37-1.37c-.4-.4-.92-.59-1.43-.59-.52 0-1.04.2-1.43.59L10.3 9.45l-7.72 7.72c-.78.78-.78 2.05 0 2.83L4 21.41c.39.39.9.59 1.41.59.51 0 1.02-.2 1.41-.59l7.78-7.78 2.81-2.81c.8-.78.8-2.07 0-2.86zM5.41 20L4 18.59l7.72-7.72 1.47 1.35L5.41 20z\"/>\n",
              "  </svg>\n",
              "      </button>\n",
              "      \n",
              "  <style>\n",
              "    .colab-df-container {\n",
              "      display:flex;\n",
              "      flex-wrap:wrap;\n",
              "      gap: 12px;\n",
              "    }\n",
              "\n",
              "    .colab-df-convert {\n",
              "      background-color: #E8F0FE;\n",
              "      border: none;\n",
              "      border-radius: 50%;\n",
              "      cursor: pointer;\n",
              "      display: none;\n",
              "      fill: #1967D2;\n",
              "      height: 32px;\n",
              "      padding: 0 0 0 0;\n",
              "      width: 32px;\n",
              "    }\n",
              "\n",
              "    .colab-df-convert:hover {\n",
              "      background-color: #E2EBFA;\n",
              "      box-shadow: 0px 1px 2px rgba(60, 64, 67, 0.3), 0px 1px 3px 1px rgba(60, 64, 67, 0.15);\n",
              "      fill: #174EA6;\n",
              "    }\n",
              "\n",
              "    [theme=dark] .colab-df-convert {\n",
              "      background-color: #3B4455;\n",
              "      fill: #D2E3FC;\n",
              "    }\n",
              "\n",
              "    [theme=dark] .colab-df-convert:hover {\n",
              "      background-color: #434B5C;\n",
              "      box-shadow: 0px 1px 3px 1px rgba(0, 0, 0, 0.15);\n",
              "      filter: drop-shadow(0px 1px 2px rgba(0, 0, 0, 0.3));\n",
              "      fill: #FFFFFF;\n",
              "    }\n",
              "  </style>\n",
              "\n",
              "      <script>\n",
              "        const buttonEl =\n",
              "          document.querySelector('#df-dfa345a7-ab39-4c87-8e07-748d6166bfbe button.colab-df-convert');\n",
              "        buttonEl.style.display =\n",
              "          google.colab.kernel.accessAllowed ? 'block' : 'none';\n",
              "\n",
              "        async function convertToInteractive(key) {\n",
              "          const element = document.querySelector('#df-dfa345a7-ab39-4c87-8e07-748d6166bfbe');\n",
              "          const dataTable =\n",
              "            await google.colab.kernel.invokeFunction('convertToInteractive',\n",
              "                                                     [key], {});\n",
              "          if (!dataTable) return;\n",
              "\n",
              "          const docLinkHtml = 'Like what you see? Visit the ' +\n",
              "            '<a target=\"_blank\" href=https://colab.research.google.com/notebooks/data_table.ipynb>data table notebook</a>'\n",
              "            + ' to learn more about interactive tables.';\n",
              "          element.innerHTML = '';\n",
              "          dataTable['output_type'] = 'display_data';\n",
              "          await google.colab.output.renderOutput(dataTable, element);\n",
              "          const docLink = document.createElement('div');\n",
              "          docLink.innerHTML = docLinkHtml;\n",
              "          element.appendChild(docLink);\n",
              "        }\n",
              "      </script>\n",
              "    </div>\n",
              "  </div>\n",
              "  "
            ]
          },
          "metadata": {},
          "execution_count": 1
        }
      ]
    },
    {
      "cell_type": "markdown",
      "source": [
        "### Coach secession (Ekata)"
      ],
      "metadata": {
        "id": "xC7DB-zav28r"
      }
    },
    {
      "cell_type": "markdown",
      "source": [
        "### Given a list of 0's and 1's , find the maximum number of times 1 occurs consecutively. For example if the input is [1, 0, 1, 1, 1, 0, 0, 0, 0, 1] then the output would be 3."
      ],
      "metadata": {
        "id": "TWuDUFV7v9h6"
      }
    },
    {
      "cell_type": "code",
      "source": [
        "# Geeks org\n",
        "def getMaxLength(arr, n):\n",
        "\tcount = 0\n",
        "\tresult = 0\n",
        "\tfor i in range(0, n):\n",
        "\t\tif (arr[i] == 0):\n",
        "\t\t\tcount = 0\n",
        "\t\telse:\n",
        "\t\t\tcount+= 1\n",
        "\t\t\tresult = max(result, count)\n",
        "\treturn result\n",
        "\n",
        "arr = [1, 1, 0, 0, 1, 0, 1, 0, 1, 1, 1, 1]\n",
        "n = len(arr)\n",
        "print(getMaxLength(arr, n))"
      ],
      "metadata": {
        "id": "4bc4mj-TJMIU",
        "colab": {
          "base_uri": "https://localhost:8080/"
        },
        "outputId": "8649797b-14ae-43eb-8715-6e6c16318dfd"
      },
      "execution_count": null,
      "outputs": [
        {
          "output_type": "stream",
          "name": "stdout",
          "text": [
            "4\n"
          ]
        }
      ]
    },
    {
      "cell_type": "code",
      "source": [
        "# Final edited Bj\n",
        "def maxoccur(ls):\n",
        "\ttotal = 0\n",
        "\tresult = 0\n",
        "\tl = len(ls)\n",
        "\tfor i in range(0, l):\n",
        "\t\tif (ls[i] == 0):\n",
        "\t\t\ttotal = 0\n",
        "\t\telse:\n",
        "\t\t\ttotal+= 1\n",
        "\t\t\tresult = max(result, total)\n",
        "\treturn result\n",
        "\n",
        "ls = [1, 0, 1, 1, 1, 0, 0, 0, 0, 1]\n",
        "print(maxoccur(ls))"
      ],
      "metadata": {
        "colab": {
          "base_uri": "https://localhost:8080/"
        },
        "id": "7W-6bXYZ2Iw0",
        "outputId": "ed26e6a1-6da6-423e-9d13-4cd31d2edafe"
      },
      "execution_count": null,
      "outputs": [
        {
          "output_type": "stream",
          "name": "stdout",
          "text": [
            "3\n"
          ]
        }
      ]
    },
    {
      "cell_type": "markdown",
      "source": [
        "## **Momspresso**"
      ],
      "metadata": {
        "id": "PXS1qJVlDHmC"
      }
    },
    {
      "cell_type": "markdown",
      "source": [
        "### Q. Get the occurance of the first '1' in the sorted array of '0' and '1'"
      ],
      "metadata": {
        "id": "daDicbKbDtQZ"
      }
    },
    {
      "cell_type": "code",
      "source": [
        "# Get the occurance of the first '1' in the sorted array of '0' and '1'.\n",
        "# Create array without using 'numpy', reduce it's time complexicity. \n",
        "# Bj code\n",
        "import numpy as np\n",
        "# array 0 and 1 s array is sorted \n",
        "a = np.array([0,0,0,0,1,1,1,1])\n",
        "print(a)\n",
        "b = list(a)\n",
        "for i in range(len(b)):\n",
        "  #i = 0\n",
        "  if b[i] == 1:\n",
        "    print(i)\n",
        "    break\n",
        "  #i = i + 1"
      ],
      "metadata": {
        "id": "J_HI6tjIDPBR"
      },
      "execution_count": null,
      "outputs": []
    },
    {
      "cell_type": "code",
      "source": [
        "# Python3 implementation to find\n",
        "# the index of first '1' in a\n",
        "# sorted array of 0's and 1's\n",
        "\n",
        "# function to find the index of first '1'\n",
        "def indexOfFirstOne(arr, n):\n",
        "\n",
        "\t# traverse the array from left to right\n",
        "\tfor i in range(0, n):\n",
        "\t\t\n",
        "\t\t# if true, then return i\n",
        "\t\tif (arr[i] == 1):\n",
        "\t\t\treturn i\n",
        "\n",
        "\t# 1's are not present in the array\n",
        "\treturn -1\n",
        "\n",
        "# Driver program to test above\n",
        "arr = [ 0, 0, 0, 0, 0, 0, 1, 1, 1, 1 ]\n",
        "n = len(arr)\n",
        "ans = indexOfFirstOne(arr, n)\n",
        "print(ans)"
      ],
      "metadata": {
        "colab": {
          "base_uri": "https://localhost:8080/"
        },
        "id": "rEdn0RR1ceK_",
        "outputId": "7e1fd721-ba4d-42f5-bca7-1f1d237ce1ff"
      },
      "execution_count": null,
      "outputs": [
        {
          "output_type": "stream",
          "name": "stdout",
          "text": [
            "6\n"
          ]
        }
      ]
    },
    {
      "cell_type": "markdown",
      "source": [
        "### Q. SQL question \n",
        "#### Table 1 User:  user id,  user name,  user age. \n",
        "#### Table 2 Post : user id,  post id,  date of posting,  score of post \n",
        "\n",
        "### for any given month jan top 5 users who have mnax score  \n",
        "\n",
        "### Code: \n",
        "#### From user\n",
        "#### left join post\n",
        "#### on user.userid = post.userid as a\n",
        "#### select user name, score of post, date\n",
        "#### from a\n",
        "#### where month = jan\n",
        "#### group by user name \n",
        "#### order by score of post, desc limit 5"
      ],
      "metadata": {
        "id": "2bgI1ysXEnsM"
      }
    },
    {
      "cell_type": "markdown",
      "source": [
        "### Q. How to create class in python. "
      ],
      "metadata": {
        "id": "E4Z3hGYyLE6s"
      }
    },
    {
      "cell_type": "code",
      "source": [
        "# Python3 program to\n",
        "# demonstrate instantiating\n",
        "# a class\n",
        "\n",
        "\n",
        "class Dog:\n",
        "\n",
        "\t# A simple class\n",
        "\t# attribute\n",
        "\tattr1 = \"mammal\"\n",
        "\tattr2 = \"dog\"\n",
        "\n",
        "\t# A sample method\n",
        "\tdef fun(self):\n",
        "\t\tprint(\"I'm a\", self.attr1)\n",
        "\t\tprint(\"I'm a\", self.attr2)\n",
        "\n",
        "\n",
        "# Driver code\n",
        "# Object instantiation\n",
        "Rodger = Dog()\n",
        "\n",
        "# Accessing class attributes\n",
        "# and method through objects\n",
        "print(Rodger.attr1)\n",
        "Rodger.fun()"
      ],
      "metadata": {
        "colab": {
          "base_uri": "https://localhost:8080/"
        },
        "id": "bM7Z7vWvMXoi",
        "outputId": "c3189ac2-5aa3-4919-bfc4-006f99206751"
      },
      "execution_count": null,
      "outputs": [
        {
          "output_type": "stream",
          "name": "stdout",
          "text": [
            "mammal\n",
            "I'm a mammal\n",
            "I'm a dog\n"
          ]
        }
      ]
    },
    {
      "cell_type": "markdown",
      "source": [
        "### How to create array without using numpy in python."
      ],
      "metadata": {
        "id": "IkEKDEwBMk8j"
      }
    },
    {
      "cell_type": "code",
      "source": [
        "def createMatrix(rowCount, colCount, dataList):\n",
        "    mat = []\n",
        "    for i in range(rowCount):\n",
        "        rowList = []\n",
        "        for j in range(colCount):\n",
        "            # you need to increment through dataList here, like this:\n",
        "            rowList.append(dataList[rowCount * i + j])\n",
        "        mat.append(rowList)\n",
        "\n",
        "    return mat\n",
        "\n",
        "def main():\n",
        "    alpha = ['a','b','c','d','e','f','h','i','j','k','l','m','n','o','p','q','r','s','t','u','v','w','x','y','z']\n",
        "    mat = createMatrix(5,5,alpha)\n",
        "    print (mat)\n",
        "\n",
        "main()"
      ],
      "metadata": {
        "colab": {
          "base_uri": "https://localhost:8080/"
        },
        "id": "hHV_Aax7O-ts",
        "outputId": "1a5a3832-078b-47b3-9c0a-bd5946a97ba9"
      },
      "execution_count": null,
      "outputs": [
        {
          "output_type": "stream",
          "name": "stdout",
          "text": [
            "[['a', 'b', 'c', 'd', 'e'], ['f', 'h', 'i', 'j', 'k'], ['l', 'm', 'n', 'o', 'p'], ['q', 'r', 's', 't', 'u'], ['v', 'w', 'x', 'y', 'z']]\n"
          ]
        }
      ]
    },
    {
      "cell_type": "code",
      "source": [
        "li= ['a','b','c','d','e','f','h','i','j','k','l','m','n','o','p','q','r','s','t','u','v','w','x','y','z']\n",
        "[li[i:i+5] for i in range(0,len(li),5)]"
      ],
      "metadata": {
        "colab": {
          "base_uri": "https://localhost:8080/"
        },
        "id": "mJCtrlCEOgTv",
        "outputId": "919943df-6712-4833-a035-8cb9a47c003c"
      },
      "execution_count": null,
      "outputs": [
        {
          "output_type": "execute_result",
          "data": {
            "text/plain": [
              "[['a', 'b', 'c', 'd', 'e'],\n",
              " ['f', 'h', 'i', 'j', 'k'],\n",
              " ['l', 'm', 'n', 'o', 'p'],\n",
              " ['q', 'r', 's', 't', 'u'],\n",
              " ['v', 'w', 'x', 'y', 'z']]"
            ]
          },
          "metadata": {},
          "execution_count": 6
        }
      ]
    },
    {
      "cell_type": "markdown",
      "source": [
        "### Q. Merge Overlapping Intervals"
      ],
      "metadata": {
        "id": "DNvtf_BvGp7c"
      }
    },
    {
      "cell_type": "code",
      "source": [
        "def mergeIntervals(intervals):\n",
        "\t# Sort the array on the basis of start values of intervals.\n",
        "\tintervals.sort()\n",
        "\tstack = []\n",
        "\t# insert first interval into stack\n",
        "\tstack.append(intervals[0])\n",
        "\tfor i in intervals[1:]:\n",
        "\t\t# Check for overlapping interval,\n",
        "\t\t# if interval overlap\n",
        "\t\tif stack[-1][0] <= i[0] <= stack[-1][-1]:\n",
        "\t\t\tstack[-1][-1] = max(stack[-1][-1], i[-1])\n",
        "\t\telse:\n",
        "\t\t\tstack.append(i)\n",
        "\n",
        "\tprint(\"The Merged Intervals are :\", end=\" \")\n",
        "\tfor i in range(len(stack)):\n",
        "\t\tprint(stack[i], end=\" \")\n",
        "\n",
        "\n",
        "arr = [[6, 8], [1, 9], [2, 4], [4, 7]]\n",
        "mergeIntervals(arr)\n",
        "# Time complexity: O(n*log(n)), which is for sorting. Once the array of intervals is sorted, merging takes linear time.\n",
        "# Auxiliary Space: O(n)"
      ],
      "metadata": {
        "colab": {
          "base_uri": "https://localhost:8080/"
        },
        "id": "ieEvlXD8EnGf",
        "outputId": "50ebaee1-d51a-42b3-d5e7-38cd7330c837"
      },
      "execution_count": null,
      "outputs": [
        {
          "output_type": "stream",
          "name": "stdout",
          "text": [
            "The Merged Intervals are : [1, 9] "
          ]
        }
      ]
    },
    {
      "cell_type": "code",
      "source": [
        "def mergeIntervals(arr):\n",
        "\n",
        "\t# Sorting based on the increasing order\n",
        "\t# of the start intervals\n",
        "\tarr.sort(key=lambda x: x[0])\n",
        "\n",
        "\t# Stores index of last element\n",
        "\t# in output array (modified arr[])\n",
        "\tindex = 0\n",
        "\n",
        "\t# Traverse all input Intervals starting from\n",
        "\t# second interval\n",
        "\tfor i in range(1, len(arr)):\n",
        "\n",
        "\t\t# If this is not first Interval and overlaps\n",
        "\t\t# with the previous one, Merge previous and\n",
        "\t\t# current Intervals\n",
        "\t\tif (arr[index][1] >= arr[i][0]):\n",
        "\t\t\tarr[index][1] = max(arr[index][1], arr[i][1])\n",
        "\t\telse:\n",
        "\t\t\tindex = index + 1\n",
        "\t\t\tarr[index] = arr[i]\n",
        "\n",
        "\tprint(\"The Merged Intervals are :\", end=\" \")\n",
        "\tfor i in range(index+1):\n",
        "\t\tprint(arr[i], end=\" \")\n",
        "\n",
        "\n",
        "# Driver code\n",
        "arr = [[6, 8], [1, 9], [2, 4], [4, 7]]\n",
        "mergeIntervals(arr)\n",
        "# Time Complexity: O(n*log(n))\n",
        "# Auxiliary Space Complexity: O(1)"
      ],
      "metadata": {
        "colab": {
          "base_uri": "https://localhost:8080/"
        },
        "id": "LsecGxuOGxbW",
        "outputId": "35dd1330-e8ca-4a0b-fa24-73ba100115bd"
      },
      "execution_count": null,
      "outputs": [
        {
          "output_type": "stream",
          "name": "stdout",
          "text": [
            "The Merged Intervals are : [1, 9] "
          ]
        }
      ]
    },
    {
      "cell_type": "markdown",
      "source": [
        "### Merging two sorted array"
      ],
      "metadata": {
        "id": "S87SPNbok9Br"
      }
    },
    {
      "cell_type": "code",
      "source": [
        "# Python program to merge\n",
        "# two sorted arrays\n",
        "\n",
        "# Merge arr1[0..n1-1] and\n",
        "# arr2[0..n2-1] into\n",
        "# arr3[0..n1+n2-1]\n",
        "def mergeArrays(arr1, arr2, n1, n2):\n",
        "\tarr3 = [None] * (n1 + n2)\n",
        "\ti = 0\n",
        "\tj = 0\n",
        "\tk = 0\n",
        "\n",
        "\t# Traverse both array\n",
        "\twhile i < n1 and j < n2:\n",
        "\t\n",
        "\t\t# Check if current element\n",
        "\t\t# of first array is smaller\n",
        "\t\t# than current element of\n",
        "\t\t# second array. If yes,\n",
        "\t\t# store first array element\n",
        "\t\t# and increment first array\n",
        "\t\t# index. Otherwise do same\n",
        "\t\t# with second array\n",
        "\t\tif arr1[i] < arr2[j]:\n",
        "\t\t\tarr3[k] = arr1[i]\n",
        "\t\t\tk = k + 1\n",
        "\t\t\ti = i + 1\n",
        "\t\telse:\n",
        "\t\t\tarr3[k] = arr2[j]\n",
        "\t\t\tk = k + 1\n",
        "\t\t\tj = j + 1\n",
        "\t\n",
        "\n",
        "\t# Store remaining elements\n",
        "\t# of first array\n",
        "\twhile i < n1:\n",
        "\t\tarr3[k] = arr1[i];\n",
        "\t\tk = k + 1\n",
        "\t\ti = i + 1\n",
        "\n",
        "\t# Store remaining elements\n",
        "\t# of second array\n",
        "\twhile j < n2:\n",
        "\t\tarr3[k] = arr2[j];\n",
        "\t\tk = k + 1\n",
        "\t\tj = j + 1\n",
        "\tprint(\"Array after merging\")\n",
        "\tfor i in range(n1 + n2):\n",
        "\t\tprint(str(arr3[i]), end = \" \")\n",
        "\n",
        "# Driver code\n",
        "arr1 = [1, 3, 5, 7]\n",
        "n1 = len(arr1)\n",
        "\n",
        "arr2 = [2, 4, 6, 8]\n",
        "n2 = len(arr2)\n",
        "mergeArrays(arr1, arr2, n1, n2);\n",
        "\n",
        "# This code is contributed\n",
        "# by ChitraNayal\n",
        "# Time Complexity : O(n1 + n2) \n",
        "# Auxiliary Space : O(n1 + n2)"
      ],
      "metadata": {
        "colab": {
          "base_uri": "https://localhost:8080/"
        },
        "id": "vzdXH62slBYv",
        "outputId": "ef24536a-c7cf-4dba-8a09-87f9aaa072f1"
      },
      "execution_count": null,
      "outputs": [
        {
          "output_type": "stream",
          "name": "stdout",
          "text": [
            "Array after merging\n",
            "1 2 3 4 5 6 7 8 "
          ]
        }
      ]
    },
    {
      "cell_type": "code",
      "source": [
        "# Python program to merge two sorted arrays\n",
        "# using maps\n",
        "import bisect\n",
        "\n",
        "# Function to merge arrays\n",
        "def mergeArrays(a, b, n, m):\n",
        "\t# Declaring a map.\n",
        "\t# using map as a inbuilt tool\n",
        "\t# to store elements in sorted order.\n",
        "\tmp=[]\n",
        "\t\n",
        "\t# Inserting values to a map.\n",
        "\tfor i in range(n):\n",
        "\t\tbisect.insort(mp, a[i])\n",
        "\t\t\n",
        "\tfor i in range(m):\n",
        "\t\tbisect.insort(mp, b[i])\n",
        "\t\n",
        "\t# Printing keys of the map.\n",
        "\tfor i in mp:\n",
        "\t\tprint(i,end=' ')\n",
        "\t\t\n",
        "# Driver code\n",
        "arr1 = [1, 3, 5, 7]\n",
        "arr2 = [2, 4, 6, 8]\n",
        "size = len(arr1)\n",
        "size1 = len(arr2)\n",
        "\n",
        "# Function call\n",
        "mergeArrays(arr1, arr2, size, size1)\n",
        "\n",
        "# This code is contributed by Pushpesh Raj\n",
        "# Time Complexity: O( nlog(n) + mlog(m) ) \n",
        "# Auxiliary Space: O(N)"
      ],
      "metadata": {
        "colab": {
          "base_uri": "https://localhost:8080/"
        },
        "id": "3Rsj5HAhlPaq",
        "outputId": "6948793c-f34c-431f-e183-46db8e7bc071"
      },
      "execution_count": null,
      "outputs": [
        {
          "output_type": "stream",
          "name": "stdout",
          "text": [
            "1 2 3 4 5 6 7 8 "
          ]
        }
      ]
    },
    {
      "cell_type": "markdown",
      "source": [
        "### **Python developer interview**"
      ],
      "metadata": {
        "id": "c_S8f_bAQt30"
      }
    },
    {
      "cell_type": "markdown",
      "source": [
        "### Q. How to use Binet's formula in python?"
      ],
      "metadata": {
        "id": "XPKF6FQjQ4dk"
      }
    },
    {
      "cell_type": "code",
      "source": [
        "import numpy as np\n",
        "\n",
        "# We are creating an array contains n = 10 elements\n",
        "# for getting first 10 Fibonacci numbers\n",
        "a = np.arange(1, 11)\n",
        "lengthA = len(a)\n",
        "\n",
        "# splitting of terms for easiness\n",
        "sqrtFive = np.sqrt(5)\n",
        "alpha = (1 + sqrtFive) / 2\n",
        "beta = (1 - sqrtFive) / 2\n",
        "\n",
        "# Implementation of formula\n",
        "# np.rint is used for rounding off to integer\n",
        "Fn = np.rint(((alpha ** a) - (beta ** a)) / (sqrtFive))\n",
        "print(\"The first {} numbers of Fibonacci series are {} . \".format(lengthA, Fn))\n"
      ],
      "metadata": {
        "colab": {
          "base_uri": "https://localhost:8080/"
        },
        "id": "wR--GzmuQzj9",
        "outputId": "e2e77202-9c66-47d0-8eeb-f6168e6c1f91"
      },
      "execution_count": null,
      "outputs": [
        {
          "output_type": "stream",
          "name": "stdout",
          "text": [
            "The first 10 numbers of Fibonacci series are [ 1.  1.  2.  3.  5.  8. 13. 21. 34. 55.] . \n"
          ]
        }
      ]
    },
    {
      "cell_type": "markdown",
      "source": [
        "### **Convergetics Python Assignment**"
      ],
      "metadata": {
        "id": "C0HNXRSARmn-"
      }
    },
    {
      "cell_type": "markdown",
      "source": [],
      "metadata": {
        "id": "SQssEgWSRuWC"
      }
    },
    {
      "cell_type": "markdown",
      "source": [
        "### **Upgrad Questions**"
      ],
      "metadata": {
        "id": "TnVv8BTGJB52"
      }
    },
    {
      "cell_type": "code",
      "source": [
        "def a (*args):\n",
        "  return(sum(args))\n",
        "print(a(1,2,3,4))\n",
        "print(a(5,6))"
      ],
      "metadata": {
        "colab": {
          "base_uri": "https://localhost:8080/"
        },
        "id": "9H5w1jyYJBNG",
        "outputId": "f0edb563-b8d7-45eb-aac5-c086ffa02f84"
      },
      "execution_count": null,
      "outputs": [
        {
          "output_type": "stream",
          "name": "stdout",
          "text": [
            "10\n",
            "11\n"
          ]
        }
      ]
    },
    {
      "cell_type": "code",
      "source": [
        "t = (1,2,3)\n",
        "print(t*2)"
      ],
      "metadata": {
        "colab": {
          "base_uri": "https://localhost:8080/"
        },
        "id": "eXy0iyZrJHsw",
        "outputId": "09abda21-577b-4206-993b-1da5b9220386"
      },
      "execution_count": null,
      "outputs": [
        {
          "output_type": "stream",
          "name": "stdout",
          "text": [
            "(1, 2, 3, 1, 2, 3)\n"
          ]
        }
      ]
    },
    {
      "cell_type": "code",
      "source": [
        "def s(w):\n",
        "  return list(w)\n",
        "\n",
        "w = 'upGrad'\n",
        "print(s(w))"
      ],
      "metadata": {
        "colab": {
          "base_uri": "https://localhost:8080/"
        },
        "id": "3qG_ljPEJHqj",
        "outputId": "993092bb-78db-4d84-ec41-b7b8e643abab"
      },
      "execution_count": null,
      "outputs": [
        {
          "output_type": "stream",
          "name": "stdout",
          "text": [
            "['u', 'p', 'G', 'r', 'a', 'd']\n"
          ]
        }
      ]
    },
    {
      "cell_type": "code",
      "source": [
        "[ch for ch in 'upGrad']"
      ],
      "metadata": {
        "colab": {
          "base_uri": "https://localhost:8080/"
        },
        "id": "hLbgQYWfJHl8",
        "outputId": "edcb2125-7163-4515-f906-7fc86437b34d"
      },
      "execution_count": null,
      "outputs": [
        {
          "output_type": "execute_result",
          "data": {
            "text/plain": [
              "['u', 'p', 'G', 'r', 'a', 'd']"
            ]
          },
          "metadata": {},
          "execution_count": 12
        }
      ]
    },
    {
      "cell_type": "code",
      "source": [
        "import pandas as pd\n",
        "s1 = pd.Series([0,2,4,6,8,10,12])\n",
        "s2 = pd.Series([0,3,6,9,12,15])\n",
        "s1[s1.isin(s2)].index == s2[s2.isin(s1)].index"
      ],
      "metadata": {
        "colab": {
          "base_uri": "https://localhost:8080/"
        },
        "id": "xSwgCpCDJHec",
        "outputId": "33d07e0e-f2fb-4c89-a524-dd57cbb4d0a4"
      },
      "execution_count": null,
      "outputs": [
        {
          "output_type": "execute_result",
          "data": {
            "text/plain": [
              "array([ True, False, False])"
            ]
          },
          "metadata": {},
          "execution_count": 13
        }
      ]
    },
    {
      "cell_type": "code",
      "source": [
        "# initializing list\n",
        "# initializing list\n",
        "test_list = [\"all\", \"love\", \"and\", \"get\", \"educated\", \"by\", \"gfg\"]\n",
        "\n",
        "# printing original list\n",
        "print(\"The original list is : \" + str(test_list))\n",
        "\n",
        "res = []\n",
        "vow = \"aeiou\"\n",
        "for sub in test_list:\n",
        "\tflag = False\n",
        "\t\n",
        "\t# checking for begin char\n",
        "\tfor ele in vow:\n",
        "\t\tif sub.startswith(ele):\n",
        "\t\t\tflag = True\n",
        "\t\t\tbreak\n",
        "\tif flag:\n",
        "\t\tres.append(sub)\n",
        "\n",
        "# printing result\n",
        "print(\"The extracted words : \" + str(res))\n",
        "\n",
        "# printing original list\n",
        "print(\"The original list is : \" + str(test_list))\n",
        "\n",
        "res = []\n",
        "vow = \"aeiou\"\n",
        "for sub in test_list:\n",
        "\tflag = False\n",
        "\t\n",
        "\t# checking for begin char\n",
        "\tfor ele in vow:\n",
        "\t\tif sub.startswith(ele):\n",
        "\t\t\tflag = True\n",
        "\t\t\tbreak\n",
        "\tif flag:\n",
        "\t\tres.append(sub)\n",
        "\n",
        "# printing result\n",
        "print(\"The extracted words : \" + str(res))"
      ],
      "metadata": {
        "colab": {
          "base_uri": "https://localhost:8080/"
        },
        "id": "NjWJP0r0JmYp",
        "outputId": "ae267004-5cd3-4a62-a771-371459cec146"
      },
      "execution_count": null,
      "outputs": [
        {
          "output_type": "stream",
          "name": "stdout",
          "text": [
            "The original list is : ['all', 'love', 'and', 'get', 'educated', 'by', 'gfg']\n",
            "The extracted words : ['all', 'and', 'educated']\n",
            "The original list is : ['all', 'love', 'and', 'get', 'educated', 'by', 'gfg']\n",
            "The extracted words : ['all', 'and', 'educated']\n"
          ]
        }
      ]
    },
    {
      "cell_type": "markdown",
      "source": [
        "## **PRime Number**"
      ],
      "metadata": {
        "id": "ruMw52_0VUXJ"
      }
    },
    {
      "cell_type": "code",
      "source": [
        "# range of prime number\n",
        "def prime_n(n):\n",
        "\n",
        "  prime=[]\n",
        "  \n",
        "  for i in range(2,n):\n",
        "    if all(i % j !=0 for j in range(2,i)):\n",
        "      prime.append(i)\n",
        "  \n",
        "  return prime\n",
        "\n",
        "n=50\n",
        "\n",
        "print(prime_n(n))"
      ],
      "metadata": {
        "id": "efApfxGaVT-g"
      },
      "execution_count": null,
      "outputs": []
    },
    {
      "cell_type": "code",
      "source": [
        "# range of prime number\n",
        "def prime_n(n,m):\n",
        "\n",
        "  prime=[]\n",
        "  \n",
        "  for i in range(n,m):\n",
        "    if all(i % j !=0 for j in range(2,i)):\n",
        "      prime.append(i)\n",
        "  \n",
        "  return prime\n",
        "\n",
        "lower=int(input('Enter lower range: '))\n",
        "upper=int(input('Enter upper range: '))\n",
        "\n",
        "print(prime_n(lower,upper))"
      ],
      "metadata": {
        "id": "OC11yk6NVbCm"
      },
      "execution_count": null,
      "outputs": []
    },
    {
      "cell_type": "code",
      "source": [
        "# Single number prime_chcek\n",
        "\n",
        "def isPrime(n):\n",
        "\n",
        "  if n%2==0:\n",
        "    print(\"Not Prime\")\n",
        "  else:\n",
        "    print(\"Prime\")\n",
        "\n",
        "n = int(input(f\"Enter a number: \"))\n",
        "isPrime(n)\n"
      ],
      "metadata": {
        "id": "8KfozFo3Vtyx"
      },
      "execution_count": null,
      "outputs": []
    }
  ]
}